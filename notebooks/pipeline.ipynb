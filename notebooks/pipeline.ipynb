{
 "cells": [
  {
   "cell_type": "code",
   "execution_count": 1,
   "metadata": {},
   "outputs": [],
   "source": [
    "import cv2\n",
    "import random\n",
    "import numpy as np\n",
    "import matplotlib.pyplot as plt\n",
    "\n",
    "from IPython.display import clear_output\n",
    "from time import time"
   ]
  },
  {
   "cell_type": "code",
   "execution_count": 2,
   "metadata": {},
   "outputs": [],
   "source": [
    "def read_video(path:str) -> list:\n",
    "    video_cap = cv2.VideoCapture(path)\n",
    "\n",
    "    if not video_cap.isOpened():\n",
    "        raise ValueError(\"Could not open video file\")\n",
    "\n",
    "    frames = list()\n",
    "    while True:\n",
    "        ret, frame = video_cap.read()\n",
    "        if not ret:\n",
    "            break \n",
    "        frame = cv2.cvtColor(frame, cv2.COLOR_BGR2RGB)\n",
    "        frames.append(frame)\n",
    "    return np.array(frames)\n",
    "\n",
    "def mean_frame(video_frames, n_frames=0.3):\n",
    "    frame_idx = np.random.choice(np.arange(video_frames.shape[0]), size=int(len(video_frames) * n_frames / 2))\n",
    "    frames_subsample = video_frames[frame_idx]\n",
    "    rotated_frames = np.rot90(frames_subsample, k=2, axes=(1, 2)) \n",
    "    mean_frame = np.mean(\n",
    "        np.concatenate((frames_subsample, rotated_frames), axis=0),\n",
    "        axis=0).astype(np.uint8)\n",
    "    return mean_frame\n",
    "\n",
    "#def mean_frame(video_frames, n_frames=0.3):\n",
    "#    mean_frame = np.mean(\n",
    "#        random.sample(video_frames, int(len(video) * 0.4)), \n",
    "#        axis=0).astype(np.uint8)\n",
    "#    return mean_frame\n",
    "\n",
    "def osd_edges(frame):\n",
    "    edges = cv2.Canny(frame, 20, 150, apertureSize = 3)\n",
    "    # Create a kernel for dilation\n",
    "    kernel = np.ones((3, 3), np.uint8)\n",
    "\n",
    "    # Perform morphological dilation to fill the edges\n",
    "    dilated_edges = cv2.dilate(edges, kernel, iterations=1)\n",
    "\n",
    "    # Find contours of the detected edges\n",
    "    contours, _ = cv2.findContours(dilated_edges, cv2.RETR_EXTERNAL, cv2.CHAIN_APPROX_SIMPLE)\n",
    "\n",
    "    # Create a blank image of the same size as the original\n",
    "    filled_image = np.zeros_like(edges)\n",
    "\n",
    "    # Fill the detected contours\n",
    "    for contour in contours:\n",
    "        cv2.fillPoly(filled_image, [contour], color=(255))\n",
    "    \n",
    "    filled_image = crop_osd(filled_image)\n",
    "    return filled_image\n",
    "\n",
    "def crop_osd(edges, margin_percentage=0.05):\n",
    "    height, width = edges.shape\n",
    "\n",
    "    x_center = height  // 2\n",
    "    y_center = width // 2\n",
    "\n",
    "    x_margin = int(height * margin_percentage)\n",
    "    y_margin = int(width * margin_percentage)\n",
    "\n",
    "    margin = max(x_margin, y_margin)\n",
    "\n",
    "    center_edges = edges[\n",
    "        x_center - margin: x_center + margin, \n",
    "        y_center - margin: y_center + margin]\n",
    "    \n",
    "    rotated_edges = np.rot90(center_edges)\n",
    "\n",
    "    edges[\n",
    "        x_center - margin: x_center + margin, \n",
    "        y_center - margin: y_center + margin] =  center_edges | rotated_edges\n",
    "    \n",
    "    return edges\n",
    "\n",
    "\n",
    "def inpaint_OSD(frame, mask):\n",
    "    # Apply inpainting to remove OSD\n",
    "    inpaint_result = cv2.inpaint(frame, mask, inpaintRadius=5, flags=cv2.INPAINT_TELEA)\n",
    "    \n",
    "    return inpaint_result\n",
    "\n",
    "def pipeline_old(video):\n",
    "    m_frame = mean_frame(video)\n",
    "    edges = osd_edges(m_frame)\n",
    "    plt.imshow(edges)\n",
    "    \n",
    "    for idx, frame in enumerate(video):\n",
    "        inp = inpaint_OSD(frame, edges)\n",
    "        plt.imshow(inp)\n",
    "        plt.title(f'Frame: {idx}')\n",
    "        clear_output(True)\n",
    "        plt.show()\n"
   ]
  },
  {
   "cell_type": "code",
   "execution_count": 3,
   "metadata": {},
   "outputs": [],
   "source": [
    "import cv2\n",
    "import numpy as np\n",
    "from multiprocessing import Pool\n",
    "import matplotlib.pyplot as plt\n",
    "from IPython.display import clear_output\n",
    "\n",
    "\n",
    "def process_frame(args):\n",
    "    print('processing frame')\n",
    "    frame, edges = args\n",
    "    inp = inpaint_OSD(frame, edges)\n",
    "    return inp\n",
    "\n",
    "def pipeline(video):\n",
    "    print('pipeline')\n",
    "    m_frame = mean_frame(video)\n",
    "    edges = osd_edges(m_frame)\n",
    "    plt.imshow(edges)\n",
    "\n",
    "    with Pool(processes=4) as pool:  # Adjust the number of processes as needed\n",
    "        args_list = [(frame, edges) for frame in video]\n",
    "        inpainted_frames = pool.map(process_frame, args_list)\n",
    "        pool.close()\n",
    "        pool.join()\n",
    "\n",
    "        for idx, inp in enumerate(inpainted_frames):\n",
    "            plt.imshow(inp)\n",
    "            plt.title(f'Frame: {idx}')\n",
    "            clear_output(True)\n",
    "            plt.show()"
   ]
  },
  {
   "cell_type": "code",
   "execution_count": 4,
   "metadata": {},
   "outputs": [],
   "source": [
    "video_path = '../assets/test_video3.mp4'\n",
    "video = read_video(video_path)"
   ]
  },
  {
   "cell_type": "code",
   "execution_count": 5,
   "metadata": {},
   "outputs": [
    {
     "data": {
      "text/plain": [
       "<matplotlib.image.AxesImage at 0x20ef2116eb0>"
      ]
     },
     "execution_count": 5,
     "metadata": {},
     "output_type": "execute_result"
    },
    {
     "data": {
      "image/png": "[encoded data removed]",
      "text/plain": [
       "<Figure size 432x288 with 1 Axes>"
      ]
     },
     "metadata": {
      "needs_background": "light"
     },
     "output_type": "display_data"
    }
   ],
   "source": [
    "plt.imshow(video[0])"
   ]
  },
  {
   "cell_type": "code",
   "execution_count": null,
   "metadata": {},
   "outputs": [],
   "source": [
    "%%time\n",
    "\n",
    "# start_time = time()\n",
    "\n",
    "pipeline(video)\n",
    "\n",
    "# end_time = time()\n",
    "\n",
    "# print(f'Elapsed time: {end_time - start_time}')"
   ]
  },
  {
   "cell_type": "code",
   "execution_count": null,
   "metadata": {},
   "outputs": [],
   "source": [
    "start_time = time()\n",
    "\n",
    "pipeline_old(video)\n",
    "\n",
    "end_time = time()\n",
    "\n",
    "print(f'Elapsed time: {end_time - start_time}')"
   ]
  },
  {
   "cell_type": "code",
   "execution_count": null,
   "metadata": {},
   "outputs": [],
   "source": [
    "from multiprocessing import Pool\n",
    "\n",
    "def f(x):\n",
    "    return x*x\n",
    "\n",
    "if __name__ == '__main__':\n",
    "    with Pool(5) as p:\n",
    "        print(p.map(f, [1, 2, 3]))"
   ]
  },
  {
   "cell_type": "code",
   "execution_count": null,
   "metadata": {},
   "outputs": [],
   "source": [
    "m_frame = mean_frame(video[:300])\n",
    "plt.imshow(m_frame)\n",
    "plt.show() \n",
    "\n",
    "edges = osd_edges(m_frame)\n",
    "plt.imshow(edges)"
   ]
  },
  {
   "cell_type": "code",
   "execution_count": null,
   "metadata": {},
   "outputs": [],
   "source": [
    "pipeline(video)"
   ]
  },
  {
   "cell_type": "code",
   "execution_count": null,
   "metadata": {},
   "outputs": [],
   "source": [
    "video_path = '../assets/test_video3.mp4'\n",
    "video = read_video(video_path)"
   ]
  },
  {
   "cell_type": "code",
   "execution_count": null,
   "metadata": {},
   "outputs": [],
   "source": [
    "m_frame = mean_frame(video)\n",
    "plt.imshow(m_frame)\n",
    "plt.show()\n",
    "\n",
    "edges = osd_edges(m_frame)\n",
    "plt.imshow(edges)"
   ]
  },
  {
   "cell_type": "code",
   "execution_count": null,
   "metadata": {},
   "outputs": [],
   "source": [
    "pipeline(video)"
   ]
  },
  {
   "cell_type": "code",
   "execution_count": null,
   "metadata": {},
   "outputs": [],
   "source": []
  }
 ],
 "metadata": {
  "kernelspec": {
   "display_name": "Python 3 (ipykernel)",
   "language": "python",
   "name": "python3"
  },
  "language_info": {
   "codemirror_mode": {
    "name": "ipython",
    "version": 3
   },
   "file_extension": ".py",
   "mimetype": "text/x-python",
   "name": "python",
   "nbconvert_exporter": "python",
   "pygments_lexer": "ipython3",
   "version": "3.9.5"
  },
  "vscode": {
   "interpreter": {
    "hash": "6d8fdef2fc5c7d6c5fac9b3e0f4a87e22dcd515b3c37ebd11bc6fec3961e4974"
   }
  }
 },
 "nbformat": 4,
 "nbformat_minor": 2
}
